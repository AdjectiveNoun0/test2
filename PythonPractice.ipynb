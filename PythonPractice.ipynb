{
  "nbformat": 4,
  "nbformat_minor": 0,
  "metadata": {
    "colab": {
      "provenance": [],
      "authorship_tag": "ABX9TyNCicONP81gC8gAo7Wa0Eav",
      "include_colab_link": true
    },
    "kernelspec": {
      "name": "python3",
      "display_name": "Python 3"
    },
    "language_info": {
      "name": "python"
    }
  },
  "cells": [
    {
      "cell_type": "markdown",
      "metadata": {
        "id": "view-in-github",
        "colab_type": "text"
      },
      "source": [
        "<a href=\"https://colab.research.google.com/github/AdjectiveNoun0/test2/blob/main/PythonPractice.ipynb\" target=\"_parent\"><img src=\"https://colab.research.google.com/assets/colab-badge.svg\" alt=\"Open In Colab\"/></a>"
      ]
    },
    {
      "cell_type": "markdown",
      "source": [
        "# Temperature Conversion\n",
        "\n",
        "Fahrenheit to Celcius"
      ],
      "metadata": {
        "id": "1VjFNGbZbojQ"
      }
    },
    {
      "cell_type": "code",
      "source": [
        "#input function only saves as string, int converts to integer\n",
        "temp_f = int(input('Temperature? '))\n",
        "#str converts back to string for print function\n",
        "temp_c = str((temp_f-32)*(5/9));\n",
        "\n",
        "print('Temperature in Celsius is ' + temp_c);"
      ],
      "metadata": {
        "id": "1FqonMkgY3mY",
        "colab": {
          "base_uri": "https://localhost:8080/"
        },
        "outputId": "e129c02b-55a5-495b-b3ce-0ec0c78f9340"
      },
      "execution_count": null,
      "outputs": [
        {
          "output_type": "stream",
          "name": "stdout",
          "text": [
            "Temperature?32\n",
            "Temperature in Celsius is 0.0\n"
          ]
        }
      ]
    },
    {
      "cell_type": "markdown",
      "source": [
        "Temp Conversion: F <=> C"
      ],
      "metadata": {
        "id": "AGHhKGuCJD9I"
      }
    },
    {
      "cell_type": "code",
      "source": [
        "temp_0 = int(input('What is the Temperature?'))\n",
        "temp_type = str.lower(input('Which scale? \\n F. Farenheit \\n C. Celcius \\n'))\n",
        "if temp_type == 'f':\n",
        "  temp_1 = str((temp_0-32)*(5/9));\n",
        "  temp_type_1 = 'Celcius'\n",
        "  #elif: else if\n",
        "elif temp_type == 'c':\n",
        "  temp_1 = str((temp_0*(9/5)+32));\n",
        "  temp_type_1 = 'Farenheit'\n",
        "else:\n",
        "  print('error: ' + temp_type + ' not recognized')\n",
        "\n",
        "print('Temperature is ' + temp_1 + ' degrees ' + temp_type_1)"
      ],
      "metadata": {
        "colab": {
          "base_uri": "https://localhost:8080/"
        },
        "id": "bETxJGNFJTeS",
        "outputId": "7e2eb98a-61e3-438b-8ed2-549a5dbda12f"
      },
      "execution_count": 1,
      "outputs": [
        {
          "output_type": "stream",
          "name": "stdout",
          "text": [
            "What is the Temperature?100\n",
            "Which scale? \n",
            " F. Farenheit \n",
            " C. Celcius \n",
            "C\n",
            "Temperature is 212.0 degrees Farenheit\n"
          ]
        }
      ]
    },
    {
      "cell_type": "markdown",
      "source": [
        "[WIP]Temperature: [f,c,k] <=> [f,c,k]"
      ],
      "metadata": {
        "id": "vmneF2bmecGT"
      }
    },
    {
      "cell_type": "code",
      "source": [
        "from platform import python_version\n",
        "python_version()"
      ],
      "metadata": {
        "colab": {
          "base_uri": "https://localhost:8080/",
          "height": 36
        },
        "id": "ILHzuM04vtqf",
        "outputId": "79bd3d9f-bbe0-48b1-9464-b98382303fff"
      },
      "execution_count": null,
      "outputs": [
        {
          "output_type": "execute_result",
          "data": {
            "text/plain": [
              "'3.9.16'"
            ],
            "application/vnd.google.colaboratory.intrinsic+json": {
              "type": "string"
            }
          },
          "metadata": {},
          "execution_count": 85
        }
      ]
    },
    {
      "cell_type": "code",
      "source": [
        "temp_input = str.lower(input('Please list temperature, space then letter of current scale then scale you want. \\n Example 1: 32 FC \\n Example 2: 100 CF\\n' ))\n",
        "temp_list = temp_input.split(\" \",1)\n",
        "temp_scale = temp_list[1]\n",
        "temp_0 = temp_list[0]\n",
        "\n",
        "#If, else since this version is pre match & case\n",
        "#f,c,k,r\n",
        "\n",
        "if temp_scale == 'fc':\n",
        " temp_1 = str((temp_0-32)*(5/9));\n",
        "  temp_scale1 = 'Celcius'\n",
        "  #elif: else if\n",
        "elif temp_scale == 'cf':\n",
        "  temp_1 = str((temp_0*(9/5)+32));\n",
        "  temp_scale1 = 'Farenheit'\n",
        "\n",
        "#elif temp_scale == 'ck':\n",
        "#  temp_1 = str(temp_0+273);\n",
        "#  temp_scale1 = 'Kelvin'\n",
        "\n",
        "#elif temp_scale == 'kc':\n",
        "#  temp_1 = str(temp_0+273);\n",
        "#  temp_scale1 = 'Celcius'\n",
        "\n",
        "\n",
        "\n",
        "\n",
        "#elif temp_scale == 'xx':\n",
        "#  temp_1 = str(-formulaHere-);\n",
        "#  temp_scale1 = '-NewScale-'\n",
        "\n",
        "#elif temp_scale == 'xx':\n",
        "#  temp_1 = str(-formulaHere-);\n",
        "#  temp_scale1 = '-NewScale-'\n",
        "\n",
        "#elif temp_scale == 'xx':\n",
        "#  temp_1 = str(-formulaHere-);\n",
        "#  temp_scale1 = '-NewScale-'\n",
        "\n",
        "else:\n",
        "  print('error: ' + temp_scale + ' not recognized')\n",
        "print('Temperature is ' + temp_1 + ' degrees ' + temp_scale1)"
      ],
      "metadata": {
        "colab": {
          "base_uri": "https://localhost:8080/"
        },
        "id": "PnK5zwL9e6uJ",
        "outputId": "1b6c2dde-4f95-48b7-e3fb-080c33ec18eb"
      },
      "execution_count": 9,
      "outputs": [
        {
          "output_type": "stream",
          "name": "stdout",
          "text": [
            "Please list temperature, space then letter of current scale then scale you want. \n",
            " Example 1: 32 FC \n",
            " Example 2: 100 CF\n",
            "32 FC\n",
            "['32', 'fc']\n"
          ]
        }
      ]
    },
    {
      "cell_type": "code",
      "source": [],
      "metadata": {
        "colab": {
          "base_uri": "https://localhost:8080/"
        },
        "id": "YJuLHz9jx5DD",
        "outputId": "4fd24df4-b2d8-43f7-a43d-bceaf956c3b4"
      },
      "execution_count": 14,
      "outputs": [
        {
          "output_type": "stream",
          "name": "stdout",
          "text": [
            "Please list temperature, space then letter of current scale then scale you want. \n",
            " Example 1: 32 FC \n",
            " Example 2: 100 CF\n",
            "100 cf\n",
            "cf\n"
          ]
        }
      ]
    }
  ]
}